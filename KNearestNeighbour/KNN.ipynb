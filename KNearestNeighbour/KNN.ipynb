{
 "cells": [
  {
   "cell_type": "markdown",
   "metadata": {},
   "source": [
    "## Practical 5\n",
    "\n",
    "In this practical I have implemeted the K-Nearest Neighbour algorithm for the **Iris Dataset**.\n",
    "\n",
    "Two methods are illustrated for calculating the KNN:\n",
    " - In-built method of sklearn\n",
    " - Using Cosine Similarity (from scratch)"
   ]
  },
  {
   "cell_type": "code",
   "execution_count": 23,
   "metadata": {},
   "outputs": [],
   "source": [
    "import numpy as np\n",
    "from sklearn.neighbors import KNeighborsClassifier\n",
    "from sklearn import metrics, datasets\n",
    "import matplotlib.pyplot as plt"
   ]
  },
  {
   "cell_type": "code",
   "execution_count": 14,
   "metadata": {},
   "outputs": [],
   "source": [
    "X, y = datasets.load_iris(return_X_y = True)"
   ]
  },
  {
   "cell_type": "code",
   "execution_count": 49,
   "metadata": {},
   "outputs": [],
   "source": [
    "def load_data1():\n",
    "    # Splitting the data into test and train \n",
    "    X_test = []\n",
    "    X_train = []\n",
    "\n",
    "\n",
    "    X_test[0:5] = X[0:5,:]\n",
    "    X_train[0:45] = X[5:50,:]\n",
    "    X_test[5:10] = X[50:55,:]\n",
    "    X_train[45:90] = X[55:100,:]\n",
    "    X_test[10:15] = X[100:105,:]\n",
    "    X_train[90:135] = X[105:150,:]\n",
    "\n",
    "    X_train = np.array(X_train)\n",
    "    X_test = np.array(X_test)\n",
    "\n",
    "\n",
    "    y_test = []\n",
    "    y_train = []\n",
    "\n",
    "\n",
    "    y_test[0:5] = y[0:5]\n",
    "    y_train[0:45] = y[5:50]\n",
    "    y_test[5:10] = y[50:55]\n",
    "    y_train[45:90] = y[55:100]\n",
    "    y_test[10:15] = y[100:105]\n",
    "    y_train[90:135] = y[105:150]\n",
    "\n",
    "    y_train = np.array(y_train)\n",
    "    y_test = np.array(y_test)\n",
    "    \n",
    "    return X_train, X_test, y_train, y_test"
   ]
  },
  {
   "cell_type": "code",
   "execution_count": 50,
   "metadata": {},
   "outputs": [],
   "source": [
    "def load_data2():\n",
    "    X_test = []\n",
    "    X_train = []\n",
    "\n",
    "\n",
    "    X_test[0:15] = X[0:15,:]\n",
    "    X_train[0:35] = X[15:50,:]\n",
    "    X_test[15:30] = X[50:65,:]\n",
    "    X_train[35:70] = X[65:100,:]\n",
    "    X_test[30:45] = X[100:115,:]\n",
    "    X_train[70:105] = X[115:150,:]\n",
    "\n",
    "    X_train = np.array(X_train)\n",
    "    X_test = np.array(X_test)\n",
    "\n",
    "    \n",
    "    y_test = []\n",
    "    y_train = []\n",
    "\n",
    "\n",
    "    y_test[0:15] = y[0:15]\n",
    "    y_train[0:35] = y[15:50]\n",
    "    y_test[15:30] = y[50:65]\n",
    "    y_train[35:70] = y[65:100]\n",
    "    y_test[30:45] = y[100:115]\n",
    "    y_train[70:105] = y[115:150]\n",
    "\n",
    "    y_train = np.array(y_train)\n",
    "    y_test = np.array(y_test)\n",
    "    \n",
    "    return X_train, X_test, y_train, y_test"
   ]
  },
  {
   "cell_type": "code",
   "execution_count": 51,
   "metadata": {},
   "outputs": [],
   "source": [
    "def mse(y_pred, y):\n",
    "    n = y.shape[0]\n",
    "    cost = (2/n)*np.sum((y-y_pred)**2)\n",
    "    return cost"
   ]
  },
  {
   "cell_type": "markdown",
   "metadata": {},
   "source": [
    "#### Type 1:\n",
    "\n",
    "In this method we have used the function available in **sklearn** to implement the KNN. We hsve tried various different values of **K parameter** and plotted the cost associated with it."
   ]
  },
  {
   "cell_type": "code",
   "execution_count": 65,
   "metadata": {},
   "outputs": [],
   "source": [
    "def type1(X_train, X_test, y_train, y_test):\n",
    "    costs = []\n",
    "    weights='uniform'\n",
    "\n",
    "    for i in range(1,30):\n",
    "        n_neighbors=i\n",
    "    \n",
    "        clf = KNeighborsClassifier(n_neighbors)\n",
    "        clf.fit(X_train, y_train)\n",
    "    \n",
    "        predictions = clf.predict(X_test)\n",
    "        cost = mse(predictions, y_test)\n",
    "    \n",
    "        costs.append(cost)\n",
    "        \n",
    "        \n",
    "    plt.figure(figsize=(20,8))\n",
    "    plt.plot(range(1,30),costs)\n",
    "    \n",
    "    return predictions"
   ]
  },
  {
   "cell_type": "code",
   "execution_count": 66,
   "metadata": {},
   "outputs": [
    {
     "data": {
      "image/png": "[encoded data removed]",
      "text/plain": [
       "<Figure size 1440x576 with 1 Axes>"
      ]
     },
     "metadata": {
      "needs_background": "light"
     },
     "output_type": "display_data"
    }
   ],
   "source": [
    "X_train, X_test, y_train, y_test = load_data2()\n",
    "pred = type1(X_train, X_test, y_train, y_test)"
   ]
  },
  {
   "cell_type": "code",
   "execution_count": 67,
   "metadata": {},
   "outputs": [
    {
     "data": {
      "text/plain": [
       "array([[15,  0,  0],\n",
       "       [ 0, 14,  1],\n",
       "       [ 0,  1, 14]], dtype=int64)"
      ]
     },
     "execution_count": 67,
     "metadata": {},
     "output_type": "execute_result"
    }
   ],
   "source": [
    "metrics.confusion_matrix(y_test, pred)"
   ]
  },
  {
   "cell_type": "markdown",
   "metadata": {},
   "source": [
    "#### Type 2\n",
    "\n",
    "In this part, I have implemeted the KNN using the **Cosine Similarity**. "
   ]
  },
  {
   "cell_type": "code",
   "execution_count": 56,
   "metadata": {},
   "outputs": [],
   "source": [
    "def takef(elem):\n",
    "    return elem[0]"
   ]
  },
  {
   "cell_type": "code",
   "execution_count": 57,
   "metadata": {},
   "outputs": [],
   "source": [
    "def weightedKNN(similarity, k):\n",
    "    \n",
    "    n = k\n",
    "    #n = int(input(\"Enter the value of K\"))\n",
    "\n",
    "    sim1=0;sim2=0;sim3=0\n",
    "    for i in range(n):\n",
    "        if(similarity[i][1]==0):\n",
    "            sim1 = sim1 + similarity[i][0]\n",
    "        elif(similarity[i][1]==1):\n",
    "            sim2 = sim2 + similarity[i][0]\n",
    "        else:\n",
    "            sim3 = sim3 + similarity[i][0]\n",
    "                \n",
    "    if(sim1>sim2 and sim1>sim3):\n",
    "        return 0\n",
    "    elif(sim2>sim1 and sim2>sim3):\n",
    "        return 1\n",
    "    else:\n",
    "        return 2"
   ]
  },
  {
   "cell_type": "code",
   "execution_count": 63,
   "metadata": {},
   "outputs": [],
   "source": [
    "def type2(X_train, X_test, y_train, y_test, k):\n",
    "    \n",
    "    for j in range(X_test.shape[0]):\n",
    "        test_x = X_test[j]\n",
    "        similarity = []\n",
    "        x2 = np.sqrt(np.dot(test_x.T, test_x))\n",
    "\n",
    "        for i in range(X_train.shape[0]):\n",
    "            sim1 = np.dot(X_train[i,:], test_x)\n",
    "            x1 = np.sqrt(np.dot(X_train[i,:].T,X_train[i,:]))\n",
    "            similarity.append([(sim1/(x2*x1)), y_train[i], i+1])\n",
    "    \n",
    "    \n",
    "        similarity.sort(key=takef, reverse=True)\n",
    "        p_class = weightedKNN(similarity, k)\n",
    "        \n",
    "        print(\"The predicted class for {} is {}. The actual class is {}\".format(test_x, p_class, y_test[j]))"
   ]
  },
  {
   "cell_type": "code",
   "execution_count": 64,
   "metadata": {},
   "outputs": [
    {
     "name": "stdout",
     "output_type": "stream",
     "text": [
      "The predicted class for [5.1 3.5 1.4 0.2] is 0. The actual class is 0\n",
      "The predicted class for [4.9 3.  1.4 0.2] is 0. The actual class is 0\n",
      "The predicted class for [4.7 3.2 1.3 0.2] is 0. The actual class is 0\n",
      "The predicted class for [4.6 3.1 1.5 0.2] is 0. The actual class is 0\n",
      "The predicted class for [5.  3.6 1.4 0.2] is 0. The actual class is 0\n",
      "The predicted class for [5.4 3.9 1.7 0.4] is 0. The actual class is 0\n",
      "The predicted class for [4.6 3.4 1.4 0.3] is 0. The actual class is 0\n",
      "The predicted class for [5.  3.4 1.5 0.2] is 0. The actual class is 0\n",
      "The predicted class for [4.4 2.9 1.4 0.2] is 0. The actual class is 0\n",
      "The predicted class for [4.9 3.1 1.5 0.1] is 0. The actual class is 0\n",
      "The predicted class for [5.4 3.7 1.5 0.2] is 0. The actual class is 0\n",
      "The predicted class for [4.8 3.4 1.6 0.2] is 0. The actual class is 0\n",
      "The predicted class for [4.8 3.  1.4 0.1] is 0. The actual class is 0\n",
      "The predicted class for [4.3 3.  1.1 0.1] is 0. The actual class is 0\n",
      "The predicted class for [5.8 4.  1.2 0.2] is 0. The actual class is 0\n",
      "The predicted class for [7.  3.2 4.7 1.4] is 1. The actual class is 1\n",
      "The predicted class for [6.4 3.2 4.5 1.5] is 1. The actual class is 1\n",
      "The predicted class for [6.9 3.1 4.9 1.5] is 1. The actual class is 1\n",
      "The predicted class for [5.5 2.3 4.  1.3] is 1. The actual class is 1\n",
      "The predicted class for [6.5 2.8 4.6 1.5] is 1. The actual class is 1\n",
      "The predicted class for [5.7 2.8 4.5 1.3] is 1. The actual class is 1\n",
      "The predicted class for [6.3 3.3 4.7 1.6] is 1. The actual class is 1\n",
      "The predicted class for [4.9 2.4 3.3 1. ] is 1. The actual class is 1\n",
      "The predicted class for [6.6 2.9 4.6 1.3] is 1. The actual class is 1\n",
      "The predicted class for [5.2 2.7 3.9 1.4] is 1. The actual class is 1\n",
      "The predicted class for [5.  2.  3.5 1. ] is 1. The actual class is 1\n",
      "The predicted class for [5.9 3.  4.2 1.5] is 1. The actual class is 1\n",
      "The predicted class for [6.  2.2 4.  1. ] is 1. The actual class is 1\n",
      "The predicted class for [6.1 2.9 4.7 1.4] is 1. The actual class is 1\n",
      "The predicted class for [5.6 2.9 3.6 1.3] is 1. The actual class is 1\n",
      "The predicted class for [6.3 3.3 6.  2.5] is 2. The actual class is 2\n",
      "The predicted class for [5.8 2.7 5.1 1.9] is 2. The actual class is 2\n",
      "The predicted class for [7.1 3.  5.9 2.1] is 2. The actual class is 2\n",
      "The predicted class for [6.3 2.9 5.6 1.8] is 2. The actual class is 2\n",
      "The predicted class for [6.5 3.  5.8 2.2] is 2. The actual class is 2\n",
      "The predicted class for [7.6 3.  6.6 2.1] is 2. The actual class is 2\n",
      "The predicted class for [4.9 2.5 4.5 1.7] is 2. The actual class is 2\n",
      "The predicted class for [7.3 2.9 6.3 1.8] is 2. The actual class is 2\n",
      "The predicted class for [6.7 2.5 5.8 1.8] is 2. The actual class is 2\n",
      "The predicted class for [7.2 3.6 6.1 2.5] is 2. The actual class is 2\n",
      "The predicted class for [6.5 3.2 5.1 2. ] is 2. The actual class is 2\n",
      "The predicted class for [6.4 2.7 5.3 1.9] is 2. The actual class is 2\n",
      "The predicted class for [6.8 3.  5.5 2.1] is 2. The actual class is 2\n",
      "The predicted class for [5.7 2.5 5.  2. ] is 2. The actual class is 2\n",
      "The predicted class for [5.8 2.8 5.1 2.4] is 2. The actual class is 2\n"
     ]
    }
   ],
   "source": [
    "X_train, X_test, y_train, y_test = load_data2()\n",
    "type2(X_train, X_test, y_train, y_test, 7)"
   ]
  },
  {
   "cell_type": "code",
   "execution_count": null,
   "metadata": {},
   "outputs": [],
   "source": []
  }
 ],
 "metadata": {
  "kernelspec": {
   "display_name": "Python 3",
   "language": "python",
   "name": "python3"
  },
  "language_info": {
   "codemirror_mode": {
    "name": "ipython",
    "version": 3
   },
   "file_extension": ".py",
   "mimetype": "text/x-python",
   "name": "python",
   "nbconvert_exporter": "python",
   "pygments_lexer": "ipython3",
   "version": "3.7.4"
  }
 },
 "nbformat": 4,
 "nbformat_minor": 4
}
