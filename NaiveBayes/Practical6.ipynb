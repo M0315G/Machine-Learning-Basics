{
 "metadata": {
  "language_info": {
   "codemirror_mode": {
    "name": "ipython",
    "version": 3
   },
   "file_extension": ".py",
   "mimetype": "text/x-python",
   "name": "python",
   "nbconvert_exporter": "python",
   "pygments_lexer": "ipython3",
   "version": "3.7.4-final"
  },
  "orig_nbformat": 2,
  "kernelspec": {
   "name": "Python 3.7.4 32-bit",
   "display_name": "Python 3.7.4 32-bit",
   "metadata": {
    "interpreter": {
     "hash": "3516c099f2e50fbe6b83d8aca3e7ba54c35d25f18189c7f24f96f469bdbc3fe7"
    }
   }
  }
 },
 "nbformat": 4,
 "nbformat_minor": 2,
 "cells": [
  {
   "source": [
    "## Practical 6\n",
    "\n",
    "This NOtebook is for the Implementation of Naive Bayes Algorithm. It has two parts:\n",
    "- Implementing Gaussian Naive Bayes Classification Algorithm from scratch\n",
    "- Implementing Gaussian Naive Bayes Classification Algorithm using Sklearn"
   ],
   "cell_type": "markdown",
   "metadata": {}
  },
  {
   "cell_type": "code",
   "execution_count": 1,
   "metadata": {},
   "outputs": [],
   "source": [
    "from sklearn import datasets\n",
    "import numpy as np"
   ]
  },
  {
   "cell_type": "code",
   "execution_count": 67,
   "metadata": {},
   "outputs": [],
   "source": [
    "def load_data():\n",
    "\n",
    "    X, y = datasets.load_iris(return_X_y = True)\n",
    "\n",
    "    X_test = []\n",
    "    X_train = []\n",
    "\n",
    "\n",
    "    X_test[0:15] = X[0:15,:]\n",
    "    X_train[0:35] = X[15:50,:]\n",
    "    X_test[15:30] = X[50:65,:]\n",
    "    X_train[35:70] = X[65:100,:]\n",
    "    X_test[30:45] = X[100:115,:]\n",
    "    X_train[70:105] = X[115:150,:]\n",
    "\n",
    "    X_train = np.array(X_train)\n",
    "    X_test = np.array(X_test)\n",
    "\n",
    "    \n",
    "    y_test = []\n",
    "    y_train = []\n",
    "\n",
    "\n",
    "    y_test[0:15] = y[0:15]\n",
    "    y_train[0:35] = y[15:50]\n",
    "    y_test[15:30] = y[50:65]\n",
    "    y_train[35:70] = y[65:100]\n",
    "    y_test[30:45] = y[100:115]\n",
    "    y_train[70:105] = y[115:150]\n",
    "\n",
    "    y_train = np.array(y_train)\n",
    "    y_test = np.array(y_test)\n",
    "    \n",
    "    return X_train, X_test, y_train, y_test"
   ]
  },
  {
   "cell_type": "code",
   "execution_count": 68,
   "metadata": {},
   "outputs": [],
   "source": [
    "X_train, X_test, y_train, y_test = load_data()\n",
    "no_of_classes = np.unique(y_test).shape[0]"
   ]
  },
  {
   "source": [
    "### Part 1\n",
    "\n",
    "Implemeting Gaussian Naive Bayes from scratch."
   ],
   "cell_type": "markdown",
   "metadata": {}
  },
  {
   "cell_type": "code",
   "execution_count": 71,
   "metadata": {},
   "outputs": [],
   "source": [
    "def compute_mean_var(X, y):\n",
    "    n_features = X.shape[1]\n",
    "    mean = np.zeros((no_of_classes, n_features))\n",
    "    var = np.zeros((no_of_classes, n_features))\n",
    "\n",
    "    for i in range(no_of_classes):\n",
    "        indexes = np.where(y==i)\n",
    "        x_temp = X[indexes]\n",
    "        mean[i] = np.mean(x_temp, axis=0)\n",
    "        var[i] = np.var(x_temp, axis=0)\n",
    "    return  mean, var"
   ]
  },
  {
   "cell_type": "code",
   "execution_count": 82,
   "metadata": {},
   "outputs": [],
   "source": [
    "def gauss(X, mean, var):\n",
    "\n",
    "    ans = ( 1/ ( np.sqrt( 2 * np.pi * var ) ) ) * ( np.exp(-( ( ( X -  mean )**2 )/( 2 * var ) ) ) )\n",
    "\n",
    "    return ans"
   ]
  },
  {
   "cell_type": "code",
   "execution_count": 83,
   "metadata": {},
   "outputs": [],
   "source": [
    "def likelihood(X, mean, var):\n",
    "\n",
    "    n_features = X.shape[0]\n",
    "    prob = np.zeros(no_of_classes)\n",
    "\n",
    "    for i in range(no_of_classes):\n",
    "        product = 1\n",
    "        for j in range(n_features):\n",
    "            product = product * gauss(X[j], mean[i][j], var[i][j])\n",
    "\n",
    "        prob[i] = product\n",
    "\n",
    "    return prob"
   ]
  },
  {
   "cell_type": "code",
   "execution_count": 84,
   "metadata": {},
   "outputs": [],
   "source": [
    "def class_prob(y):\n",
    "    prob = np.zeros(no_of_classes)\n",
    "\n",
    "    total_samples = y.shape[0]\n",
    "\n",
    "    for i in range(no_of_classes):\n",
    "        count = np.array(np.where(y_test==i)).shape[1]\n",
    "        prob[i] = count/total_samples\n",
    "\n",
    "    return prob"
   ]
  },
  {
   "cell_type": "code",
   "execution_count": 116,
   "metadata": {},
   "outputs": [],
   "source": [
    "def Gaussian_NB(X, y, X_test, y_test):\n",
    "    mean, var =  compute_mean_var(X, y)\n",
    "    c_prob = class_prob(y)\n",
    "    pred = np.zeros(X_test.shape[0])\n",
    "    ct = 0\n",
    "    for i in range(X_test.shape[0]):\n",
    "        prob = likelihood(X_test[i], mean, var)\n",
    "\n",
    "        post_prob = c_prob*prob\n",
    "\n",
    "        req_prob = max(post_prob)\n",
    "        pred[i] = np.where(post_prob==req_prob)[0]\n",
    "        if(pred[i]!=y_test[i]):\n",
    "            ct = ct + 1\n",
    "\n",
    "\n",
    "    print(\"Accuracy is: \",(y_test.shape[0] - ct)/y_test.shape[0])\n",
    "\n",
    "    return pred\n"
   ]
  },
  {
   "cell_type": "code",
   "execution_count": 117,
   "metadata": {},
   "outputs": [
    {
     "output_type": "stream",
     "name": "stdout",
     "text": [
      "Accuracy is:  0.9555555555555556\n"
     ]
    }
   ],
   "source": [
    "pred = Gaussian_NB(X_train, y_train, X_test, y_test)"
   ]
  },
  {
   "source": [
    "### Part 2\n",
    "\n",
    "Implementing Naive Bayes using Sklearn"
   ],
   "cell_type": "markdown",
   "metadata": {}
  },
  {
   "cell_type": "code",
   "execution_count": 121,
   "metadata": {},
   "outputs": [
    {
     "output_type": "execute_result",
     "data": {
      "text/plain": [
       "GaussianNB()"
      ]
     },
     "metadata": {},
     "execution_count": 121
    }
   ],
   "source": [
    "from sklearn.naive_bayes import GaussianNB\n",
    "GNBclf = GaussianNB()\n",
    "GNBclf.fit(X_train, y_train)"
   ]
  },
  {
   "cell_type": "code",
   "execution_count": 122,
   "metadata": {},
   "outputs": [
    {
     "output_type": "execute_result",
     "data": {
      "text/plain": [
       "GaussianNB()"
      ]
     },
     "metadata": {},
     "execution_count": 122
    }
   ],
   "source": [
    "GaussianNB(priors = None, var_smoothing = 1e-09)"
   ]
  },
  {
   "cell_type": "code",
   "execution_count": 123,
   "metadata": {},
   "outputs": [],
   "source": [
    "pred = GNBclf.predict(X_test)"
   ]
  },
  {
   "cell_type": "code",
   "execution_count": 124,
   "metadata": {},
   "outputs": [
    {
     "output_type": "stream",
     "name": "stdout",
     "text": [
      "The result of the predictions is:\nPredictions: [0 0 0 0 0 0 0 0 0 0 0 0 0 0 0 1 1 2 1 1 1 1 1 1 1 1 1 1 1 1 2 2 2 2 2 2 1\n 2 2 2 2 2 2 2 2]\nGround Truth:  [0 0 0 0 0 0 0 0 0 0 0 0 0 0 0 1 1 1 1 1 1 1 1 1 1 1 1 1 1 1 2 2 2 2 2 2 2\n 2 2 2 2 2 2 2 2]\n"
     ]
    }
   ],
   "source": [
    "print(\"The result of the predictions is:\")\n",
    "print(\"Predictions:\", pred)\n",
    "print(\"Ground Truth: \", y_test)"
   ]
  },
  {
   "cell_type": "code",
   "execution_count": null,
   "metadata": {},
   "outputs": [],
   "source": []
  }
 ]
}